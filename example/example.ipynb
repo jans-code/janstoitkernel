{
 "cells": [
  {
   "cell_type": "markdown",
   "id": "74ddb23e-c3f3-40ba-8bec-7c3d3421d679",
   "metadata": {},
   "source": [
    "# Run Toit code in a jupyter notebook!"
   ]
  },
  {
   "cell_type": "code",
   "execution_count": 1,
   "id": "9df91eb7-8e2f-4d68-b3a8-b94fe62ce867",
   "metadata": {
    "tags": []
   },
   "outputs": [
    {
     "name": "stdout",
     "output_type": "stream",
     "text": [
      "Hello World!\n",
      "Hello Kasper!\n"
     ]
    }
   ],
   "source": [
    "hi:\n",
    "  print \"Hello World!\"\n",
    "\n",
    "greet name:\n",
    "  print \"Hello $name!\"\n",
    "\n",
    "main:\n",
    "  hi\n",
    "  greet \"Kasper\""
   ]
  }
 ],
 "metadata": {
  "kernelspec": {
   "display_name": "Toit",
   "language": "",
   "name": "janstoitkernel"
  },
  "language_info": {
   "file_extension": ".toit",
   "mimetype": "application/toit",
   "name": "Toit"
  }
 },
 "nbformat": 4,
 "nbformat_minor": 5
}
